{
 "cells": [
  {
   "cell_type": "code",
   "execution_count": 19,
   "id": "14fc8fcb",
   "metadata": {},
   "outputs": [
    {
     "name": "stdout",
     "output_type": "stream",
     "text": [
      "Files loaded successfully.\n"
     ]
    }
   ],
   "source": [
    "import pandas as pd\n",
    "import statsmodels.formula.api as smf\n",
    "import numpy as np\n",
    "\n",
    "# --- Load All Necessary Data Files ---\n",
    "# Make sure these CSV files are in the same directory as your script\n",
    "try:\n",
    "    flight_df = pd.read_csv('Flight Level Data.csv')\n",
    "    bag_df = pd.read_csv('Bag+Level+Data.csv')\n",
    "    pnr_flight_df = pd.read_csv('PNR+Flight+Level+Data.csv')\n",
    "    pnr_remark_df = pd.read_csv('PNR Remark Level Data.csv')\n",
    "    print(\"Files loaded successfully.\")\n",
    "except FileNotFoundError as e:\n",
    "    print(f\"Error loading files: {e}.\")\n",
    "    print(\"Please ensure the CSV files are in the same directory as the script.\")\n",
    "    exit()\n"
   ]
  },
  {
   "cell_type": "code",
   "execution_count": 20,
   "id": "b7be49fe",
   "metadata": {},
   "outputs": [
    {
     "name": "stdout",
     "output_type": "stream",
     "text": [
      "\n",
      "--- Analyzing Question 1: Flight Delays ---\n",
      "Average departure delay for flights that are late: 47.06 minutes\n",
      "Percentage of flights that depart later than scheduled: 49.61%\n"
     ]
    }
   ],
   "source": [
    "\n",
    "# --- Question 1: Flight Delays ---\n",
    "print(\"\\n--- Analyzing Question 1: Flight Delays ---\")\n",
    "# Convert time columns to datetime objects, coercing errors\n",
    "flight_df['actual_departure_datetime_local'] = pd.to_datetime(flight_df['actual_departure_datetime_local'], errors='coerce')\n",
    "flight_df['scheduled_departure_datetime_local'] = pd.to_datetime(flight_df['scheduled_departure_datetime_local'], errors='coerce')\n",
    "flight_df.dropna(subset=['actual_departure_datetime_local', 'scheduled_departure_datetime_local'], inplace=True)\n",
    "flight_df['departure_delay'] = (flight_df['actual_departure_datetime_local'] - flight_df['scheduled_departure_datetime_local']).dt.total_seconds() / 60\n",
    "delayed_flights = flight_df[flight_df['departure_delay'] > 0]\n",
    "average_delay = delayed_flights['departure_delay'].mean()\n",
    "percentage_delayed = (len(delayed_flights) / len(flight_df)) * 100\n",
    "print(f\"Average departure delay for flights that are late: {average_delay:.2f} minutes\")\n",
    "print(f\"Percentage of flights that depart later than scheduled: {percentage_delayed:.2f}%\")\n"
   ]
  },
  {
   "cell_type": "code",
   "execution_count": 21,
   "id": "30b5aa9f",
   "metadata": {},
   "outputs": [
    {
     "name": "stdout",
     "output_type": "stream",
     "text": [
      "\n",
      "--- Analyzing Question 2: Ground Time ---\n",
      "Number of flights with scheduled ground time <= minimum turn time: 652\n"
     ]
    }
   ],
   "source": [
    "\n",
    "# --- Question 2: Ground Time ---\n",
    "print(\"\\n--- Analyzing Question 2: Ground Time ---\")\n",
    "tight_schedule_flights = flight_df[flight_df['scheduled_ground_time_minutes'] <= flight_df['minimum_turn_minutes']]\n",
    "count_tight_schedule = len(tight_schedule_flights)\n",
    "print(f\"Number of flights with scheduled ground time <= minimum turn time: {count_tight_schedule}\")\n"
   ]
  },
  {
   "cell_type": "code",
   "execution_count": 22,
   "id": "6cf214c7",
   "metadata": {},
   "outputs": [
    {
     "name": "stdout",
     "output_type": "stream",
     "text": [
      "\n",
      "--- Analyzing Question 3: Bag Ratio ---\n",
      "Average ratio of Transfer vs. Checked bags: 3.22\n"
     ]
    }
   ],
   "source": [
    "# --- Question 3: Bag Ratio ---\n",
    "print(\"\\n--- Analyzing Question 3: Bag Ratio ---\")\n",
    "# Assuming 'Origin' bags are the primary type of \"checked\" bags to compare against \"Transfer\"\n",
    "bag_df['bag_type'] = bag_df['bag_type'].replace({'Origin': 'Checked'})\n",
    "flight_cols = ['company_id', 'flight_number', 'scheduled_departure_date_local']\n",
    "bag_counts = bag_df.groupby(flight_cols + ['bag_type']).size().unstack(fill_value=0)\n",
    "if 'Transfer' not in bag_counts.columns: bag_counts['Transfer'] = 0\n",
    "if 'Checked' not in bag_counts.columns: bag_counts['Checked'] = 0\n",
    "bag_counts = bag_counts[bag_counts['Checked'] > 0]\n",
    "bag_counts['ratio'] = bag_counts['Transfer'] / bag_counts['Checked']\n",
    "average_ratio = bag_counts['ratio'].mean()\n",
    "print(f\"Average ratio of Transfer vs. Checked bags: {average_ratio:.2f}\")\n"
   ]
  },
  {
   "cell_type": "code",
   "execution_count": 23,
   "id": "13e1377b",
   "metadata": {},
   "outputs": [
    {
     "name": "stdout",
     "output_type": "stream",
     "text": [
      "\n",
      "--- Analyzing Question 4: Passenger Load vs. Operational Difficulty ---\n",
      "Correlation between load factor and departure delay: -0.15\n"
     ]
    }
   ],
   "source": [
    "\n",
    "# --- Question 4: Passenger Load vs. Operational Difficulty ---\n",
    "print(\"\\n--- Analyzing Question 4: Passenger Load vs. Operational Difficulty ---\")\n",
    "# Define a unique flight identifier\n",
    "flight_identifier_cols = ['company_id', 'flight_number', 'scheduled_departure_date_local']\n",
    "# Aggregate total passengers from PNR data\n",
    "pax_by_flight = pnr_flight_df.groupby(flight_identifier_cols)['total_pax'].sum().reset_index()\n",
    "# Merge flight data with passenger data\n",
    "flight_analysis_df = pd.merge(flight_df, pax_by_flight, on=flight_identifier_cols)\n",
    "# Calculate load factor\n",
    "flight_analysis_df['load_factor'] = flight_analysis_df['total_pax'] / flight_analysis_df['total_seats']\n",
    "flight_analysis_df.replace([np.inf, -np.inf], np.nan, inplace=True)\n",
    "flight_analysis_df.dropna(subset=['load_factor', 'departure_delay'], inplace=True)\n",
    "correlation = flight_analysis_df['load_factor'].corr(flight_analysis_df['departure_delay'])\n",
    "print(f\"Correlation between load factor and departure delay: {correlation:.2f}\")\n"
   ]
  },
  {
   "cell_type": "code",
   "execution_count": 24,
   "id": "e09817a7",
   "metadata": {},
   "outputs": [
    {
     "name": "stdout",
     "output_type": "stream",
     "text": [
      "\n",
      "--- Analyzing Question 5: SSRs vs. Delays (controlling for load) ---\n",
      "\n",
      "Full regression model summary:\n",
      "                            OLS Regression Results                            \n",
      "==============================================================================\n",
      "Dep. Variable:        departure_delay   R-squared:                       0.035\n",
      "Model:                            OLS   Adj. R-squared:                  0.034\n",
      "Method:                 Least Squares   F-statistic:                     89.94\n",
      "Date:                Sat, 04 Oct 2025   Prob (F-statistic):           4.21e-39\n",
      "Time:                        16:36:11   Log-Likelihood:                -27444.\n",
      "No. Observations:                5000   AIC:                         5.489e+04\n",
      "Df Residuals:                    4997   BIC:                         5.491e+04\n",
      "Df Model:                           2                                         \n",
      "Covariance Type:            nonrobust                                         \n",
      "===============================================================================\n",
      "                  coef    std err          t      P>|t|      [0.025      0.975]\n",
      "-------------------------------------------------------------------------------\n",
      "Intercept      62.5486      4.121     15.178      0.000      54.470      70.627\n",
      "load_factor   -49.2281      3.981    -12.364      0.000     -57.033     -41.423\n",
      "ssr_count       0.1910      0.026      7.398      0.000       0.140       0.242\n",
      "==============================================================================\n",
      "Omnibus:                     5248.404   Durbin-Watson:                   2.048\n",
      "Prob(Omnibus):                  0.000   Jarque-Bera (JB):           427014.461\n",
      "Skew:                           5.191   Prob(JB):                         0.00\n",
      "Kurtosis:                      47.067   Cond. No.                         400.\n",
      "==============================================================================\n",
      "\n",
      "Notes:\n",
      "[1] Standard Errors assume that the covariance matrix of the errors is correctly specified.\n",
      "\n",
      "P-value for ssr_count: 0.00\n",
      "The number of SSRs is a statistically significant predictor of delay, after controlling for load factor.\n"
     ]
    },
    {
     "name": "stderr",
     "output_type": "stream",
     "text": [
      "C:\\Users\\Ribhav\\AppData\\Local\\Temp\\ipykernel_5504\\471109555.py:7: FutureWarning: A value is trying to be set on a copy of a DataFrame or Series through chained assignment using an inplace method.\n",
      "The behavior will change in pandas 3.0. This inplace method will never work because the intermediate object on which we are setting values always behaves as a copy.\n",
      "\n",
      "For example, when doing 'df[col].method(value, inplace=True)', try using 'df.method({col: value}, inplace=True)' or df[col] = df[col].method(value) instead, to perform the operation inplace on the original object.\n",
      "\n",
      "\n",
      "  flight_analysis_df['ssr_count'].fillna(0, inplace=True)\n"
     ]
    }
   ],
   "source": [
    "\n",
    "# --- Question 5: SSRs vs. Delays (controlling for load) ---\n",
    "print(\"\\n--- Analyzing Question 5: SSRs vs. Delays (controlling for load) ---\")\n",
    "# Aggregate SSRs by flight\n",
    "ssr_by_flight = pnr_remark_df.groupby(['flight_number']).size().reset_index(name='ssr_count')\n",
    "# Merge SSR data into the main analysis dataframe\n",
    "flight_analysis_df = pd.merge(flight_analysis_df, ssr_by_flight, on='flight_number', how='left')\n",
    "flight_analysis_df['ssr_count'].fillna(0, inplace=True)\n",
    "# Perform multiple regression\n",
    "# Using a subset to avoid issues with perfect multicollinearity or other data problems in the full dataset\n",
    "subset_df = flight_analysis_df[['departure_delay', 'load_factor', 'ssr_count']].dropna()\n",
    "# Ensure the sample size is not larger than the population\n",
    "sample_size = min(5000, len(subset_df))\n",
    "if sample_size > 0:\n",
    "    subset_df = subset_df.sample(n=sample_size, random_state=42)\n",
    "    model = smf.ols('departure_delay ~ load_factor + ssr_count', data=subset_df).fit()\n",
    "    # Check the p-value for ssr_count\n",
    "    p_value_ssr = model.pvalues['ssr_count']\n",
    "    print(f\"\\nFull regression model summary:\\n{model.summary()}\\n\")\n",
    "    print(f\"P-value for ssr_count: {p_value_ssr:.2f}\")\n",
    "    if p_value_ssr < 0.05:\n",
    "        print(\"The number of SSRs is a statistically significant predictor of delay, after controlling for load factor.\")\n",
    "    else:\n",
    "        print(\"The number of SSRs is NOT a statistically significant predictor of delay, after controlling for load factor.\")\n",
    "else:\n",
    "    print(\"Could not create a sample for the regression analysis due to insufficient data.\")"
   ]
  }
 ],
 "metadata": {
  "kernelspec": {
   "display_name": "base",
   "language": "python",
   "name": "python3"
  },
  "language_info": {
   "codemirror_mode": {
    "name": "ipython",
    "version": 3
   },
   "file_extension": ".py",
   "mimetype": "text/x-python",
   "name": "python",
   "nbconvert_exporter": "python",
   "pygments_lexer": "ipython3",
   "version": "3.13.5"
  }
 },
 "nbformat": 4,
 "nbformat_minor": 5
}
