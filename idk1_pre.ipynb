{
 "cells": [
  {
   "cell_type": "code",
   "execution_count": 1,
   "id": "6c68e452",
   "metadata": {},
   "outputs": [
    {
     "name": "stdout",
     "output_type": "stream",
     "text": [
      "--- Starting Analysis of Preprocessed Flight Data ---\n",
      "Successfully loaded 'preprocessed_flight_data.csv'.\n",
      "\n",
      "--- Question 1: Delays ---\n",
      "Average departure delay for late flights: 47.06 minutes\n",
      "Percentage of flights that depart late: 49.61%\n"
     ]
    }
   ],
   "source": [
    "import pandas as pd\n",
    "import statsmodels.api as sm\n",
    "\n",
    "print(\"--- Starting Analysis of Preprocessed Flight Data ---\")\n",
    "\n",
    "try:\n",
    "    # Load the preprocessed CSV file\n",
    "    df = pd.read_csv('preprocessed_flight_data.csv')\n",
    "    print(\"Successfully loaded 'preprocessed_flight_data.csv'.\")\n",
    "except FileNotFoundError:\n",
    "    print(\"Error: 'preprocessed_flight_data.csv' not found.\")\n",
    "    print(\"Please make sure the preprocessed file is in the same directory as the script.\")\n",
    "    exit()\n",
    "\n",
    "# --- 1. Average Delay and Percentage of Delayed Flights ---\n",
    "print(\"\\n--- Question 1: Delays ---\")\n",
    "delayed_flights = df[df['departure_delay'] > 0]\n",
    "average_delay = delayed_flights['departure_delay'].mean()\n",
    "percentage_delayed = (len(delayed_flights) / len(df)) * 100\n",
    "print(f\"Average departure delay for late flights: {average_delay:.2f} minutes\")\n",
    "print(f\"Percentage of flights that depart late: {percentage_delayed:.2f}%\")\n"
   ]
  },
  {
   "cell_type": "code",
   "execution_count": 2,
   "id": "bd5de619",
   "metadata": {},
   "outputs": [
    {
     "name": "stdout",
     "output_type": "stream",
     "text": [
      "\n",
      "--- Question 2: Ground Time ---\n",
      "Number of flights with scheduled ground time at or below minimum: 652\n"
     ]
    }
   ],
   "source": [
    "\n",
    "# --- 2. Flights with Ground Time Below Minimum ---\n",
    "print(\"\\n--- Question 2: Ground Time ---\")\n",
    "# ground_time_diff was calculated as scheduled_ground_time_minutes - minimum_turn_minutes\n",
    "tight_schedule_flights = df[df['ground_time_diff'] <= 0]\n",
    "print(f\"Number of flights with scheduled ground time at or below minimum: {len(tight_schedule_flights)}\")\n"
   ]
  },
  {
   "cell_type": "code",
   "execution_count": 3,
   "id": "9366e352",
   "metadata": {},
   "outputs": [
    {
     "name": "stdout",
     "output_type": "stream",
     "text": [
      "\n",
      "--- Question 3: Bag Ratio ---\n",
      "Average ratio of transfer bags to checked bags: 3.04\n"
     ]
    }
   ],
   "source": [
    "\n",
    "# --- 3. Ratio of Transfer Bags vs. Checked Bags ---\n",
    "print(\"\\n--- Question 3: Bag Ratio ---\")\n",
    "# To avoid division by zero, only consider flights with at least one checked bag\n",
    "bag_ratio_df = df[df['checked_bags'] > 0].copy()\n",
    "bag_ratio_df['bag_ratio'] = bag_ratio_df['transfer_bags'] / bag_ratio_df['checked_bags']\n",
    "average_bag_ratio = bag_ratio_df['bag_ratio'].mean()\n",
    "print(f\"Average ratio of transfer bags to checked bags: {average_bag_ratio:.2f}\")\n"
   ]
  },
  {
   "cell_type": "code",
   "execution_count": 4,
   "id": "e23dab44",
   "metadata": {},
   "outputs": [
    {
     "name": "stdout",
     "output_type": "stream",
     "text": [
      "\n",
      "--- Question 4: Load Factor vs. Delay ---\n",
      "Correlation between passenger load factor and departure delay: -0.17\n"
     ]
    }
   ],
   "source": [
    "\n",
    "# --- 4. Passenger Load vs. Operational Difficulty (Delay) ---\n",
    "print(\"\\n--- Question 4: Load Factor vs. Delay ---\")\n",
    "correlation = df['load_factor'].corr(df['departure_delay'])\n",
    "print(f\"Correlation between passenger load factor and departure delay: {correlation:.2f}\")\n"
   ]
  },
  {
   "cell_type": "code",
   "execution_count": 5,
   "id": "b5a0b838",
   "metadata": {},
   "outputs": [
    {
     "name": "stdout",
     "output_type": "stream",
     "text": [
      "\n",
      "--- Question 5: SSRs and Delays ---\n",
      "P-value for ssr_count's impact on delay (controlling for load factor): 0.00\n",
      "Conclusion: SSRs have a statistically significant impact on delays, even after accounting for load factor.\n"
     ]
    }
   ],
   "source": [
    "\n",
    "# --- 5. High SSR Flights vs. Delays (Controlling for Load) ---\n",
    "print(\"\\n--- Question 5: SSRs and Delays ---\")\n",
    "# Prepare data for regression\n",
    "analysis_df = df[['departure_delay', 'load_factor', 'ssr_count']].dropna()\n",
    "X = analysis_df[['load_factor', 'ssr_count']]\n",
    "X = sm.add_constant(X)  # Add a constant (intercept) to the model\n",
    "y = analysis_df['departure_delay']\n",
    "\n",
    "# Fit the Ordinary Least Squares (OLS) model\n",
    "model = sm.OLS(y, X).fit()\n",
    "\n",
    "# Extract the p-value for the 'ssr_count' coefficient\n",
    "p_value_ssr = model.pvalues['ssr_count']\n",
    "print(f\"P-value for ssr_count's impact on delay (controlling for load factor): {p_value_ssr:.2f}\")\n",
    "\n",
    "if p_value_ssr < 0.05:\n",
    "    print(\"Conclusion: SSRs have a statistically significant impact on delays, even after accounting for load factor.\")\n",
    "else:\n",
    "    print(\"Conclusion: SSRs do not have a statistically significant impact on delays when controlling for load factor.\")"
   ]
  }
 ],
 "metadata": {
  "kernelspec": {
   "display_name": "base",
   "language": "python",
   "name": "python3"
  },
  "language_info": {
   "codemirror_mode": {
    "name": "ipython",
    "version": 3
   },
   "file_extension": ".py",
   "mimetype": "text/x-python",
   "name": "python",
   "nbconvert_exporter": "python",
   "pygments_lexer": "ipython3",
   "version": "3.13.5"
  }
 },
 "nbformat": 4,
 "nbformat_minor": 5
}
